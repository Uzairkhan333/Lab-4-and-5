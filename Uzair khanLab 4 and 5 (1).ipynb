{
  "metadata": {
    "kernelspec": {
      "name": "python",
      "display_name": "Python (Pyodide)",
      "language": "python"
    },
    "language_info": {
      "codemirror_mode": {
        "name": "python",
        "version": 3
      },
      "file_extension": ".py",
      "mimetype": "text/x-python",
      "name": "python",
      "nbconvert_exporter": "python",
      "pygments_lexer": "ipython3",
      "version": "3.8"
    }
  },
  "nbformat_minor": 4,
  "nbformat": 4,
  "cells": [
    {
      "cell_type": "markdown",
      "source": "# Name : Uzair khan\n# section: AI (BLUE)\n# REG.NO: B22F1245AI081\n# LAB : 4 AND 5\n",
      "metadata": {}
    },
    {
      "cell_type": "code",
      "source": "print(\"Uzair khan\")",
      "metadata": {
        "trusted": true
      },
      "outputs": [
        {
          "name": "stdout",
          "text": "Uzair khan\n",
          "output_type": "stream"
        }
      ],
      "execution_count": 23
    },
    {
      "cell_type": "code",
      "source": "#Task 1\n#creating list of fruit\nlist=[\"Orange\" , \"Banana\" , \"Apple\" , \"Mango\" , \"cherry\"]\nprint (list)\nprint(list[0]) \nprint(list[4]) ",
      "metadata": {
        "trusted": true
      },
      "outputs": [
        {
          "name": "stdout",
          "text": "['Orange', 'Banana', 'Apple', 'Mango', 'cherry']\nOrange\ncherry\n",
          "output_type": "stream"
        }
      ],
      "execution_count": 7
    },
    {
      "cell_type": "code",
      "source": "#Task 2\n#creating list of colour and update the list\nlist1=[\"Green\" , \"Orange\" , \"yellow\" , \"Black\"]\nprint(list1)\n#now updating colour with blue\nlist1[0]=\"Blue\"\nprint(list1)\nhighlight_index = \"1\"\n\nprint(highlight_index)",
      "metadata": {
        "trusted": true
      },
      "outputs": [
        {
          "name": "stdout",
          "text": "['Green', 'Orange', 'yellow', 'Black']\n['Blue', 'Orange', 'yellow', 'Black']\n1\n",
          "output_type": "stream"
        }
      ],
      "execution_count": 66
    },
    {
      "cell_type": "code",
      "source": "#Task 3\n#Creating list of numbers and shange last with 10\nlist2=[\"1\" ,\"2\" ,\"3\", \"4\"]\nprint(list2)\nlist2.append(\"10\")\nprint(list2)",
      "metadata": {
        "trusted": true
      },
      "outputs": [
        {
          "name": "stdout",
          "text": "['1', '2', '3', '4']\n['1', '2', '3', '4', '10']\n",
          "output_type": "stream"
        }
      ],
      "execution_count": 14
    },
    {
      "cell_type": "code",
      "source": "#Task 4\n#creation list of animals and remove third item f the list\nlist3=[\"Tiger\" , \"lion\" ,\"cat\" ,\"zebra\"]\nprint(list3)\nlist3.remove(\"cat\")\nprint(list3)",
      "metadata": {
        "trusted": true
      },
      "outputs": [
        {
          "name": "stdout",
          "text": "['Tiger', 'lion', 'cat', 'zebra']\n['Tiger', 'lion', 'zebra']\n",
          "output_type": "stream"
        }
      ],
      "execution_count": 17
    },
    {
      "cell_type": "code",
      "source": "#Task 5\n#Using loop to print all cities\nlist4=[\"Havelian\" ,\"Abbottabad\" , \"Menshra\" , \"Islamabad\"]\nfor x in list4:\n    print(x)\n\n",
      "metadata": {
        "trusted": true
      },
      "outputs": [
        {
          "name": "stdout",
          "text": "Havelian\nAbbottabad\nMenshra\nIslamabad\n",
          "output_type": "stream"
        }
      ],
      "execution_count": 23
    },
    {
      "cell_type": "code",
      "source": "#Task 6\n#Create a list of numbers from 1 to 10,\n#Use list comprehension to create a new list containing the square of each number.\n\nlistl=[1,2,3,4,5,6,7,8,9,10]\nprint(listl)\nsquared_numbers=[num ** 2 for num in listl]\nprint(squared_numbers)\n\n\n",
      "metadata": {
        "trusted": true
      },
      "outputs": [
        {
          "name": "stdout",
          "text": "[1, 2, 3, 4, 5, 6, 7, 8, 9, 10]\n[1, 4, 9, 16, 25, 36, 49, 64, 81, 100]\n",
          "output_type": "stream"
        }
      ],
      "execution_count": 45
    },
    {
      "cell_type": "code",
      "source": "#Task 7\n#lists of names\n#Soet the list \nnames=[\"Uzair khan\" , \"Husnain shah\" , \"Usman Nazakat\" , \"Saad\"]\nnames.sort()\nprint(names)\n",
      "metadata": {
        "trusted": true
      },
      "outputs": [
        {
          "name": "stdout",
          "text": "['Husnain shah', 'Saad', 'Usman Nazakat', 'Uzair khan']\n",
          "output_type": "stream"
        }
      ],
      "execution_count": 47
    },
    {
      "cell_type": "code",
      "source": "#Task 8\n#List of fruit and copy list to other\nfruits=[\"Orange\" , \"Banana\" , \"Mango\" , \"Cheery\"]\nfruits2=fruits.copy()\nprint(fruits)",
      "metadata": {
        "trusted": true
      },
      "outputs": [
        {
          "name": "stdout",
          "text": "['Orange', 'Banana', 'Mango', 'Cheery']\n",
          "output_type": "stream"
        }
      ],
      "execution_count": 49
    },
    {
      "cell_type": "code",
      "source": "#Task 9\n#creating 2 list and add both in single list\nn1=[1,2,3,4,5]\nn2=[6,7,8,9,10]\nn3=[n1+n2]\nprint(n3)",
      "metadata": {
        "trusted": true
      },
      "outputs": [
        {
          "name": "stdout",
          "text": "[[1, 2, 3, 4, 5, 6, 7, 8, 9, 10]]\n",
          "output_type": "stream"
        }
      ],
      "execution_count": 50
    },
    {
      "cell_type": "code",
      "source": "#Task 10\n#list of fruits and append and pop function used\nfruit=[\"Orange\" , \"Banana\" , \"Mango\" , \"Cherry\"]\nfruit.append(\"Apple\")\nprint(fruit)\nfruit.pop()\nprint(fruit)\n",
      "metadata": {
        "trusted": true
      },
      "outputs": [
        {
          "name": "stdout",
          "text": "['Orange', 'Banana', 'Mango', 'Cherry', 'Apple']\n['Orange', 'Banana', 'Mango', 'Cherry']\n",
          "output_type": "stream"
        }
      ],
      "execution_count": 59
    },
    {
      "cell_type": "code",
      "source": "#Task 11\n# Create two lists\nlist1 = [1, 2, 3, 4, 5]\nlist2 = [6, 7, 8, 9, 10]\n\n# Create a new list using list comprehension to sum corresponding elements\nsum = [x + y for x, y in zip(list1, list2)]\n\n# Print the new list\nprint(sum)",
      "metadata": {
        "trusted": true
      },
      "outputs": [
        {
          "name": "stdout",
          "text": "[7, 9, 11, 13, 15]\n",
          "output_type": "stream"
        }
      ],
      "execution_count": 67
    },
    {
      "cell_type": "code",
      "source": "#Task 12\n# Create a list of numbers\nnumbers = [1, 2, 3, 4, 5, 6, 7, 8, 9, 10]\n\n# Create a new list containing only the even numbers using list comprehension\neven_numbers = [number for number in numbers if number % 2 == 0]\n\n# Sort the new list in descending order\neven_numbers.sort(reverse=True)\n\n# Print the new list\nprint(even_numbers)",
      "metadata": {
        "trusted": true
      },
      "outputs": [
        {
          "name": "stdout",
          "text": "[10, 8, 6, 4, 2]\n",
          "output_type": "stream"
        }
      ],
      "execution_count": 61
    },
    {
      "cell_type": "code",
      "source": "#Task 13\n# Create a list of numbers from 1 to 10\nnumbers =[1,2,3,4,5,6,7,8,9,10]\n\n# Create a new list containing only the even numbers in reverse order using list slicing\neven_numbers_reversed = numbers[1:9:2]\neven_numbers_reversed.reverse()\n\n# Print the new list\nprint(even_numbers_reversed)\n",
      "metadata": {
        "trusted": true
      },
      "outputs": [
        {
          "name": "stdout",
          "text": "[8, 6, 4, 2]\n",
          "output_type": "stream"
        }
      ],
      "execution_count": 22
    },
    {
      "cell_type": "code",
      "source": "#Task 14\n# Create two lists\neven_numbers = [2, 4, 6, 8, 10]\nodd_numbers = [1, 3, 5, 7, 9]\n\n# Combine the two lists into a single list, alternating between even and odd numbers\ncombined_list = []\nfor i in range(len(even_numbers)):\n    combined_list.append(even_numbers[i])\n    combined_list.append(odd_numbers[i])\n\n# Print the combined list\nprint(combined_list)",
      "metadata": {
        "trusted": true
      },
      "outputs": [
        {
          "name": "stdout",
          "text": "[2, 1, 4, 3, 6, 5, 8, 7, 10, 9]\n",
          "output_type": "stream"
        }
      ],
      "execution_count": 1
    },
    {
      "cell_type": "code",
      "source": "",
      "metadata": {
        "trusted": true
      },
      "outputs": [],
      "execution_count": null
    },
    {
      "cell_type": "code",
      "source": "",
      "metadata": {
        "trusted": true
      },
      "outputs": [],
      "execution_count": null
    }
  ]
}